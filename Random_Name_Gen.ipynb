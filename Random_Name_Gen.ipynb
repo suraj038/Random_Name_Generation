{
 "cells": [
  {
   "cell_type": "code",
   "execution_count": 9,
   "metadata": {},
   "outputs": [
    {
     "name": "stdout",
     "output_type": "stream",
     "text": [
      "Hello! Enjoy your new random name!\n",
      "2\n",
      "Type in the number above and press ENTER\n",
      "2\n",
      "Your random name is:  Josh Miller\n"
     ]
    }
   ],
   "source": [
    "import random\n",
    "\n",
    "randomNum = random.randint(0,9)\n",
    "\n",
    "print('Hello! Enjoy your new random name!')\n",
    "\n",
    "# Display first name\n",
    "firstName = {'0': 'John', '1': 'Jake', '2': 'Josh', '3': 'Joe', '4': \t\t\t'Abbey','5': 'Lenny', '6': 'Osagie', '7': 'Ron', '8': 'Mark', \t\t\t'9': 'Raul', '10': 'Suraj'}\n",
    "\n",
    "print(randomNum)\n",
    "\n",
    "\n",
    "# Display last name\n",
    "lastName = {'0': 'Smith','1': 'Maller', '2': 'Miller', '3': 'Poblobski', \t\t\t'4': 'Keller','5': 'Lantern', '6': 'Olson', '7': 'Collins', \t\t\t'8': 'Weinstein', '9': 'Negron', '10': 'Singh'}\n",
    "\n",
    "while True:\n",
    "    randomNum = random.randint(0,9)\n",
    "    print('Type in the number above and press ENTER')\n",
    "    numNum = input()\n",
    "    if numNum == '':\n",
    "        break\n",
    "    \n",
    "    \n",
    "    if numNum in firstName:\n",
    "        print('Your random name is: ', firstName[numNum], lastName[numNum])\n",
    "        break\n",
    "    else: \n",
    "        print('I am a turkey')"
   ]
  }
 ],
 "metadata": {
  "kernelspec": {
   "display_name": "Python 3",
   "language": "python",
   "name": "python3"
  },
  "language_info": {
   "codemirror_mode": {
    "name": "ipython",
    "version": 3
   },
   "file_extension": ".py",
   "mimetype": "text/x-python",
   "name": "python",
   "nbconvert_exporter": "python",
   "pygments_lexer": "ipython3",
   "version": "3.6.7"
  }
 },
 "nbformat": 4,
 "nbformat_minor": 2
}
